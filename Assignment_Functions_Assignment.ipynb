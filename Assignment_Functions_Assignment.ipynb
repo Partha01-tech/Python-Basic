{
  "nbformat": 4,
  "nbformat_minor": 0,
  "metadata": {
    "colab": {
      "provenance": []
    },
    "kernelspec": {
      "name": "python3",
      "display_name": "Python 3"
    },
    "language_info": {
      "name": "python"
    }
  },
  "cells": [
    {
      "cell_type": "markdown",
      "source": [
        "# Theory Questions:\n"
      ],
      "metadata": {
        "id": "FT-iGTuH8s7Y"
      }
    },
    {
      "cell_type": "markdown",
      "source": [
        "1. What is the difference between a function and a method in Python?\n",
        "-  All methods are functions, but not all functions are methods. The defining characteristic of a method is its belonging to a class and its ability to interact with the object's data.\n",
        "\n",
        " *Function*\n",
        "- A function is a block of reusable code that performs a specific task.\n",
        "\n",
        "- It is defined using the def keyword.\n",
        "\n",
        "- It can exist independently (outside of a class).\n",
        "\n"
      ],
      "metadata": {
        "id": "kseuwI31qd0r"
      }
    },
    {
      "cell_type": "code",
      "source": [
        "def greet(name):\n",
        "    return \"Hello, \" + name\n",
        "\n",
        "print(greet(\"Partha\"))\n"
      ],
      "metadata": {
        "colab": {
          "base_uri": "https://localhost:8080/"
        },
        "id": "kuA8McLtsM9q",
        "outputId": "c8ac85a0-1464-447d-a1e3-3afaa191a87e"
      },
      "execution_count": 1,
      "outputs": [
        {
          "output_type": "stream",
          "name": "stdout",
          "text": [
            "Hello, Partha\n"
          ]
        }
      ]
    },
    {
      "cell_type": "markdown",
      "source": [
        "*Method*\n",
        "- A method is like a function, but it's associated with an object (usually defined inside a class).\n",
        "\n",
        "- It takes self as its first parameter, which refers to the instance of the class.\n",
        "\n",
        "- It is called on objects (instances of classes).\n",
        "\n",
        "Example:"
      ],
      "metadata": {
        "id": "kbPNhdYIscbd"
      }
    },
    {
      "cell_type": "code",
      "source": [
        "class Person:\n",
        "    def greet(self, name):\n",
        "        return \"Hello, \" + name\n",
        "\n",
        "p = Person()\n",
        "print(p.greet(\"Partha\"))"
      ],
      "metadata": {
        "colab": {
          "base_uri": "https://localhost:8080/"
        },
        "id": "XgMB0KUHslpZ",
        "outputId": "fd474d00-a51d-47c4-cbd1-bc2939f74e6b"
      },
      "execution_count": 2,
      "outputs": [
        {
          "output_type": "stream",
          "name": "stdout",
          "text": [
            "Hello, Partha\n"
          ]
        }
      ]
    },
    {
      "cell_type": "markdown",
      "source": [
        "2. Explain the concept of function arguments and parameters in Python.\n",
        "\n",
        "- Parameters: These are variables listed inside the parentheses in a function definition.\n",
        "\n",
        " They act as placeholders for the values that will be passed to the function\n",
        "\n",
        "- Arguments: These are the actual values you pass to the function when you call it."
      ],
      "metadata": {
        "id": "mWmY1Nr1s9IY"
      }
    },
    {
      "cell_type": "markdown",
      "source": [
        "3. What are the different ways to define and call a function in Python?\n",
        "-"
      ],
      "metadata": {
        "id": "APQyidtztcKN"
      }
    },
    {
      "cell_type": "code",
      "source": [
        "# Basic Function\n",
        "def greet():\n",
        "    print(\"Hello!\")\n",
        "greet()"
      ],
      "metadata": {
        "colab": {
          "base_uri": "https://localhost:8080/"
        },
        "id": "K5Z455AlxPTp",
        "outputId": "3e78da5b-6801-4ef2-e622-5648969ad29f"
      },
      "execution_count": 4,
      "outputs": [
        {
          "output_type": "stream",
          "name": "stdout",
          "text": [
            "Hello!\n"
          ]
        }
      ]
    },
    {
      "cell_type": "code",
      "source": [
        "# Function with Parameters\n",
        "def greet(name):\n",
        "    print(\"Hello\", name)\n",
        "greet(\"Partha\")"
      ],
      "metadata": {
        "colab": {
          "base_uri": "https://localhost:8080/"
        },
        "id": "qiwOdzz7xp9V",
        "outputId": "864355c4-2e25-4806-82ea-c7d5507e5465"
      },
      "execution_count": 5,
      "outputs": [
        {
          "output_type": "stream",
          "name": "stdout",
          "text": [
            "Hello Partha\n"
          ]
        }
      ]
    },
    {
      "cell_type": "code",
      "source": [
        "# Function with Default Value\n",
        "def greet(name=\"Guest\"):\n",
        "    print(\"Hello\", name)\n",
        "greet()\n",
        "greet(\"Rita\")\n"
      ],
      "metadata": {
        "colab": {
          "base_uri": "https://localhost:8080/"
        },
        "id": "tc_1GcDMx7WA",
        "outputId": "db350139-8efb-4b41-ef42-fa4a1f3ea56e"
      },
      "execution_count": 6,
      "outputs": [
        {
          "output_type": "stream",
          "name": "stdout",
          "text": [
            "Hello Guest\n",
            "Hello Rita\n"
          ]
        }
      ]
    },
    {
      "cell_type": "code",
      "source": [
        "# Function with Multiple Values\n",
        "def add_numbers(*numbers):\n",
        "    print(sum(numbers))\n",
        "add_numbers(1, 2, 3)"
      ],
      "metadata": {
        "colab": {
          "base_uri": "https://localhost:8080/"
        },
        "id": "KZQ5xicOyN6D",
        "outputId": "789a97af-24ed-49ae-89e3-c870636d6448"
      },
      "execution_count": 7,
      "outputs": [
        {
          "output_type": "stream",
          "name": "stdout",
          "text": [
            "6\n"
          ]
        }
      ]
    },
    {
      "cell_type": "code",
      "source": [
        "# Function with Keyword Values\n",
        "def show_info(**info):\n",
        "    print(info)\n",
        "show_info(name=\"Partha\", age=25)"
      ],
      "metadata": {
        "colab": {
          "base_uri": "https://localhost:8080/"
        },
        "id": "hJiWlbKgydqX",
        "outputId": "a9b33e96-dfa2-4d3c-ce3a-68835a43edb3"
      },
      "execution_count": 8,
      "outputs": [
        {
          "output_type": "stream",
          "name": "stdout",
          "text": [
            "{'name': 'Partha', 'age': 25}\n"
          ]
        }
      ]
    },
    {
      "cell_type": "markdown",
      "source": [
        "4. What is the purpose of the `return` statement in a Python function?\n",
        "- Ends the function.\n",
        "\n",
        "- Gives back a value"
      ],
      "metadata": {
        "id": "qpHGp4tAyo9q"
      }
    },
    {
      "cell_type": "code",
      "source": [
        "def add(a, b):\n",
        "    return a + b\n",
        "\n",
        "result = add(3, 5)\n",
        "print(result)\n"
      ],
      "metadata": {
        "colab": {
          "base_uri": "https://localhost:8080/"
        },
        "id": "VuTnPkLl3DP4",
        "outputId": "317abd05-2ba5-4b85-e94a-b468de07f2a9"
      },
      "execution_count": 9,
      "outputs": [
        {
          "output_type": "stream",
          "name": "stdout",
          "text": [
            "8\n"
          ]
        }
      ]
    },
    {
      "cell_type": "markdown",
      "source": [
        "5. What are iterators in Python and how do they differ from iterables?\n",
        "- Iterable: Can be looped through.\n",
        "\n",
        "Iterator: Actually returns items one by one during the loop.\n"
      ],
      "metadata": {
        "id": "jxNX5rEM3Ip2"
      }
    },
    {
      "cell_type": "markdown",
      "source": [
        "6. Explain the concept of generators in Python and how they are defined.\n",
        "- A generator is a special type of function that yields values one at a time, instead of returning them all at once.\n",
        "- yield"
      ],
      "metadata": {
        "id": "-QxbzdMs3efD"
      }
    },
    {
      "cell_type": "code",
      "source": [
        "def count_up_to(max):\n",
        "    count = 1\n",
        "    while count <= max:\n",
        "        yield count\n",
        "        count += 1\n",
        "counter = count_up_to(3)\n",
        "\n",
        "print(next(counter))\n"
      ],
      "metadata": {
        "colab": {
          "base_uri": "https://localhost:8080/"
        },
        "id": "HlT3KR5f3uL5",
        "outputId": "aef4d180-f9cf-4033-e152-352727e9916b"
      },
      "execution_count": 10,
      "outputs": [
        {
          "output_type": "stream",
          "name": "stdout",
          "text": [
            "1\n"
          ]
        }
      ]
    },
    {
      "cell_type": "code",
      "source": [
        "print(next(counter))"
      ],
      "metadata": {
        "colab": {
          "base_uri": "https://localhost:8080/"
        },
        "id": "pk6ZsSi235bm",
        "outputId": "92fb25f0-ad89-4346-d47a-59508b470415"
      },
      "execution_count": 11,
      "outputs": [
        {
          "output_type": "stream",
          "name": "stdout",
          "text": [
            "2\n"
          ]
        }
      ]
    },
    {
      "cell_type": "code",
      "source": [
        "print(next(counter))"
      ],
      "metadata": {
        "colab": {
          "base_uri": "https://localhost:8080/"
        },
        "id": "_BCwGU_l38Kt",
        "outputId": "3ee0e095-11f7-43c2-d153-4e1ef1e0f260"
      },
      "execution_count": 12,
      "outputs": [
        {
          "output_type": "stream",
          "name": "stdout",
          "text": [
            "3\n"
          ]
        }
      ]
    },
    {
      "cell_type": "markdown",
      "source": [
        "7. What are the advantages of using generators over regular functions?\n",
        "-"
      ],
      "metadata": {
        "id": "CLJaBnD23_2Y"
      }
    },
    {
      "cell_type": "markdown",
      "source": [
        "8. What is a lambda function in Python and when is it typically used?\n",
        "\n",
        "- A lambda function in Python is a small, anonymous  function that is defined using the lambda keyword instead of def.\n",
        "- Used with built-in functions like map(), filter(), sorted(), etc."
      ],
      "metadata": {
        "id": "xpwhCmGO4OwV"
      }
    },
    {
      "cell_type": "markdown",
      "source": [
        "9. Explain the purpose and usage of the `map()` function in Python.\n",
        "- The map() function is used to apply a function to each item in a list (or any iterable) and return a new iterable with the results.\n"
      ],
      "metadata": {
        "id": "U7EppQRc4tOu"
      }
    },
    {
      "cell_type": "markdown",
      "source": [
        "10. What is the difference between `map()`, `reduce()`, and `filter()` functions in Python?\n",
        "\n",
        "- map() → \"Change every item\"\n",
        "\n",
        "filter() → \"Keep only matching items\"\n",
        "\n",
        "reduce() → \"Combine into one result\""
      ],
      "metadata": {
        "id": "pA7WJDeQ7K0h"
      }
    },
    {
      "cell_type": "markdown",
      "source": [
        "11. Using pen & Paper write the internal mechanism for sum operation using  reduce function on this given\n",
        "list:[47,11,42,13];\n",
        "\n",
        "-"
      ],
      "metadata": {
        "id": "iiyLxwoP7bb8"
      }
    },
    {
      "cell_type": "code",
      "source": [
        "from functools import reduce\n",
        "\n",
        "numbers = [47, 11, 42, 13]\n",
        "result = reduce(lambda x, y: x + y, numbers)\n",
        "print(\"Sum:\", result)"
      ],
      "metadata": {
        "colab": {
          "base_uri": "https://localhost:8080/"
        },
        "id": "uFpRT8QF7vwG",
        "outputId": "7eff16c4-db83-413a-ebe0-c5e3fd98515d"
      },
      "execution_count": 19,
      "outputs": [
        {
          "output_type": "stream",
          "name": "stdout",
          "text": [
            "Sum: 113\n"
          ]
        }
      ]
    },
    {
      "cell_type": "markdown",
      "source": [
        "#Practical Questions:\n"
      ],
      "metadata": {
        "id": "1DZpDwzL8mh8"
      }
    },
    {
      "cell_type": "markdown",
      "source": [
        "1. Write a Python function that takes a list of numbers as input and returns the sum of all even numbers in\n",
        "the list.\n",
        "\n"
      ],
      "metadata": {
        "id": "K1MrSoYm8pDL"
      }
    },
    {
      "cell_type": "code",
      "source": [
        "my_list = [10, 5, 8, 3, 2, 7]\n",
        "result = sum_of_even_numbers(my_list)\n",
        "print(\"Sum of even numbers:\", result)\n",
        "\n"
      ],
      "metadata": {
        "colab": {
          "base_uri": "https://localhost:8080/"
        },
        "id": "MgmRZe0e850D",
        "outputId": "af6a801e-c951-4933-8e80-e65478b81bcd"
      },
      "execution_count": 23,
      "outputs": [
        {
          "output_type": "stream",
          "name": "stdout",
          "text": [
            "Sum of even numbers: 20\n"
          ]
        }
      ]
    },
    {
      "cell_type": "markdown",
      "source": [
        "2. Create a Python function that accepts a string and returns the reverse of that string."
      ],
      "metadata": {
        "id": "TsGg7ku995mL"
      }
    },
    {
      "cell_type": "code",
      "source": [
        "def reverse_string(s):\n",
        "    return s[::-1]\n",
        "text = \"PARTHA\"\n",
        "result = reverse_string(text)\n",
        "print(\"Reversed string:\", result)"
      ],
      "metadata": {
        "colab": {
          "base_uri": "https://localhost:8080/"
        },
        "id": "MpB9L64898NU",
        "outputId": "f8e404a5-734e-4814-a742-d452007a839f"
      },
      "execution_count": 25,
      "outputs": [
        {
          "output_type": "stream",
          "name": "stdout",
          "text": [
            "Reversed string: AHTRAP\n"
          ]
        }
      ]
    },
    {
      "cell_type": "markdown",
      "source": [
        "3. Implement a Python function that takes a list of integers and returns a new list containing the squares of\n",
        "each number."
      ],
      "metadata": {
        "id": "ySAGtZPg-Vh0"
      }
    },
    {
      "cell_type": "code",
      "source": [
        "def square_numbers(numbers):\n",
        "    squared = []\n",
        "    for num in numbers:\n",
        "        squared.append(num ** 2)\n",
        "    return squared\n",
        "my_list = [1, 2, 3, 4]\n",
        "result = square_numbers(my_list)\n",
        "print(\"Squared list:\", result)\n"
      ],
      "metadata": {
        "colab": {
          "base_uri": "https://localhost:8080/"
        },
        "id": "LN4n7qtM-ZGw",
        "outputId": "6ab8f237-b1a1-45f2-e70f-ca0028f93276"
      },
      "execution_count": 26,
      "outputs": [
        {
          "output_type": "stream",
          "name": "stdout",
          "text": [
            "Squared list: [1, 4, 9, 16]\n"
          ]
        }
      ]
    },
    {
      "cell_type": "markdown",
      "source": [
        "4. Write a Python function that checks if a given number is prime or not from 1 to 200."
      ],
      "metadata": {
        "id": "0VXwriM2-hml"
      }
    },
    {
      "cell_type": "code",
      "source": [
        "def is_prime(n):\n",
        "    if n < 2:\n",
        "        return False\n",
        "    for i in range(2, int(n**0.5) + 1):\n",
        "        if n % i == 0:\n",
        "            return False\n",
        "    return True\n",
        "for num in range(1, 201):\n",
        "    if is_prime(num):\n",
        "        print(num, \"is a prime number\")\n"
      ],
      "metadata": {
        "colab": {
          "base_uri": "https://localhost:8080/"
        },
        "id": "PM2qx8o6-tCr",
        "outputId": "e22fd6a3-054d-4767-d628-a5af183b99ad"
      },
      "execution_count": 27,
      "outputs": [
        {
          "output_type": "stream",
          "name": "stdout",
          "text": [
            "2 is a prime number\n",
            "3 is a prime number\n",
            "5 is a prime number\n",
            "7 is a prime number\n",
            "11 is a prime number\n",
            "13 is a prime number\n",
            "17 is a prime number\n",
            "19 is a prime number\n",
            "23 is a prime number\n",
            "29 is a prime number\n",
            "31 is a prime number\n",
            "37 is a prime number\n",
            "41 is a prime number\n",
            "43 is a prime number\n",
            "47 is a prime number\n",
            "53 is a prime number\n",
            "59 is a prime number\n",
            "61 is a prime number\n",
            "67 is a prime number\n",
            "71 is a prime number\n",
            "73 is a prime number\n",
            "79 is a prime number\n",
            "83 is a prime number\n",
            "89 is a prime number\n",
            "97 is a prime number\n",
            "101 is a prime number\n",
            "103 is a prime number\n",
            "107 is a prime number\n",
            "109 is a prime number\n",
            "113 is a prime number\n",
            "127 is a prime number\n",
            "131 is a prime number\n",
            "137 is a prime number\n",
            "139 is a prime number\n",
            "149 is a prime number\n",
            "151 is a prime number\n",
            "157 is a prime number\n",
            "163 is a prime number\n",
            "167 is a prime number\n",
            "173 is a prime number\n",
            "179 is a prime number\n",
            "181 is a prime number\n",
            "191 is a prime number\n",
            "193 is a prime number\n",
            "197 is a prime number\n",
            "199 is a prime number\n"
          ]
        }
      ]
    },
    {
      "cell_type": "markdown",
      "source": [
        "5. Create an iterator class in Python that generates the Fibonacci sequence up to a specified number of\n",
        "terms."
      ],
      "metadata": {
        "id": "SpIcIXSK-1iP"
      }
    },
    {
      "cell_type": "code",
      "source": [],
      "metadata": {
        "id": "5mEWqFZ0-8Nb"
      },
      "execution_count": null,
      "outputs": []
    },
    {
      "cell_type": "markdown",
      "source": [
        "6. Write a generator function in Python that yields the powers of 2 up to a given exponent."
      ],
      "metadata": {
        "id": "MwgwpvVH_UGw"
      }
    },
    {
      "cell_type": "code",
      "source": [
        "def powers_of_two(max_exponent):\n",
        "    for i in range(max_exponent + 1):\n",
        "        yield 2 ** i\n",
        "for value in powers_of_two(5):\n",
        "    print(value)\n"
      ],
      "metadata": {
        "colab": {
          "base_uri": "https://localhost:8080/"
        },
        "id": "8zpQKhap_YDU",
        "outputId": "710f69a7-acd3-4d38-dbec-dd7889ce8fef"
      },
      "execution_count": 28,
      "outputs": [
        {
          "output_type": "stream",
          "name": "stdout",
          "text": [
            "1\n",
            "2\n",
            "4\n",
            "8\n",
            "16\n",
            "32\n"
          ]
        }
      ]
    },
    {
      "cell_type": "markdown",
      "source": [
        "7. Implement a generator function that reads a file line by line and yields each line as a string."
      ],
      "metadata": {
        "id": "8sYAeOzJ_ePp"
      }
    },
    {
      "cell_type": "code",
      "source": [],
      "metadata": {
        "id": "KLeAW4Lf_gyL"
      },
      "execution_count": null,
      "outputs": []
    },
    {
      "cell_type": "markdown",
      "source": [
        "8. Use a lambda function in Python to sort a list of tuples based on the second element of each tuple."
      ],
      "metadata": {
        "id": "DuLHJFT0_rCg"
      }
    },
    {
      "cell_type": "code",
      "source": [
        "# List of tuples\n",
        "data = [(\"Partha\", 90), (\"Rita\", 85), (\"Amit\", 95)]\n",
        "sorted_data = sorted(data, key=lambda x: x[1])\n",
        "print(sorted_data)\n"
      ],
      "metadata": {
        "colab": {
          "base_uri": "https://localhost:8080/"
        },
        "id": "IvDv28iB_tiU",
        "outputId": "4deb8055-5960-4626-d19d-c273573d1d84"
      },
      "execution_count": 29,
      "outputs": [
        {
          "output_type": "stream",
          "name": "stdout",
          "text": [
            "[('Rita', 85), ('Partha', 90), ('Amit', 95)]\n"
          ]
        }
      ]
    },
    {
      "cell_type": "markdown",
      "source": [
        "9.  Write a Python program that uses `map()` to convert a list of temperatures from Celsius to Fahrenheit."
      ],
      "metadata": {
        "id": "5oyWyrmeAJ6Y"
      }
    },
    {
      "cell_type": "code",
      "source": [],
      "metadata": {
        "id": "Z0cJ5aDQANA2"
      },
      "execution_count": null,
      "outputs": []
    },
    {
      "cell_type": "markdown",
      "source": [
        "10. Create a Python program that uses `filter()` to remove all the vowels from a given string."
      ],
      "metadata": {
        "id": "UxveU6KIAUi3"
      }
    },
    {
      "cell_type": "code",
      "source": [],
      "metadata": {
        "id": "96vVU906AX7S"
      },
      "execution_count": null,
      "outputs": []
    },
    {
      "cell_type": "markdown",
      "source": [],
      "metadata": {
        "id": "fyIDCRkiAnhY"
      }
    }
  ]
}