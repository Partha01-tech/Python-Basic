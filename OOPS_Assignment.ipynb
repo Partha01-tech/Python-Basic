{
  "nbformat": 4,
  "nbformat_minor": 0,
  "metadata": {
    "colab": {
      "provenance": []
    },
    "kernelspec": {
      "name": "python3",
      "display_name": "Python 3"
    },
    "language_info": {
      "name": "python"
    }
  },
  "cells": [
    {
      "cell_type": "code",
      "source": [],
      "metadata": {
        "id": "nGwCrO42K1cq"
      },
      "execution_count": null,
      "outputs": []
    },
    {
      "cell_type": "markdown",
      "source": [
        "1. What is Object-Oriented Programming (OOP)?\n",
        "- OOP is a programming paradigm that organizes code using objects — reusable units that combine data (attributes) and functions (methods) related to that data."
      ],
      "metadata": {
        "id": "4Ja35Ky-LF0b"
      }
    },
    {
      "cell_type": "markdown",
      "source": [
        "2. What is a class in OOP?\n",
        "- In Object-Oriented Programming (OOP), a class is a blueprint or template used to create objects. It defines attributes (data) and methods (functions) that the created objects (called instances) will have."
      ],
      "metadata": {
        "id": "qGvNpMI7Lf-7"
      }
    },
    {
      "cell_type": "markdown",
      "source": [
        "3. What is an object in OOP?\n",
        "- In Object-Oriented Programming (OOP), an object is an instance of a class. It represents a real-world entity that combines data (attributes) and behavior (methods) defined by its class.\n",
        "\n"
      ],
      "metadata": {
        "id": "Sc-GS3f6L1LZ"
      }
    },
    {
      "cell_type": "markdown",
      "source": [
        "4. What is the difference between abstraction and encapsulation?\n",
        "- Abstraction:\n",
        "   - Hides complex implementation details and shows only the essential features of an object.\n",
        "  \n",
        " -Encapsulation:\n",
        "     -Bundles the data (attributes) and methods that operate on the data within a single class, and often restricts direct access to the internal state using access modifiers (e.g., private variables)."
      ],
      "metadata": {
        "id": "cffTWNFBMBXU"
      }
    },
    {
      "cell_type": "markdown",
      "source": [
        "5.What are dunder methods in Python?\n",
        "-  __init__, __str__, __len__, etc."
      ],
      "metadata": {
        "id": "ALD5zOuVMgfc"
      }
    },
    {
      "cell_type": "markdown",
      "source": [
        "6. Explain the concept of inheritance in OOPH?\n",
        "- Inheritance is a key concept in Object-Oriented Programming (OOP) that allows a class (child) to inherit attributes and methods from another class (parent).\n",
        "\n",
        "It promotes code reuse, extensibility, and maintainability.\n",
        "\n"
      ],
      "metadata": {
        "id": "us2bVyasQMeC"
      }
    },
    {
      "cell_type": "markdown",
      "source": [
        "7. What is polymorphism in OOP?\n",
        "- Polymorphism means \"many forms\". In Object-Oriented Programming (OOP), it allows different classes to define methods with the same name, but with behavior specific to their class.\n"
      ],
      "metadata": {
        "id": "4MjvDtmCRyQk"
      }
    },
    {
      "cell_type": "markdown",
      "source": [
        "8. How is encapsulation achieved in Python?\n",
        "- Encapsulation in Python is achieved by restricting access to the internal data (attributes) and methods of a class, and exposing only what is necessary through public methods.\n"
      ],
      "metadata": {
        "id": "Btklj0fESCmn"
      }
    },
    {
      "cell_type": "markdown",
      "source": [
        "9. What is a constructor in Python?\n",
        "- A constructor in Python is a special method used to initialize an object when it is created from a class. In Python, the constructor is defined using the __init__() method."
      ],
      "metadata": {
        "id": "LSWQYT_SSgei"
      }
    },
    {
      "cell_type": "markdown",
      "source": [
        "10. What are class and static methods in Python?\n",
        "- In Python, both class methods and static methods are methods you define inside a class, but they behave differently from normal instance methods.\n",
        "\n"
      ],
      "metadata": {
        "id": "abE5P6v7SsGH"
      }
    },
    {
      "cell_type": "markdown",
      "source": [
        "11. What is method overloading in Python?\n",
        "- True method overloading is not supported directly because Python methods do not support multiple signatures.\n",
        "\n",
        "Instead, Python uses default arguments or variable-length arguments to simulate method overloading."
      ],
      "metadata": {
        "id": "lv1dUyFXS3Xq"
      }
    },
    {
      "cell_type": "markdown",
      "source": [
        "12. What is method overriding in OOP?\n",
        "- Method overriding is a feature in Object-Oriented Programming where a subclass (child class) provides a new implementation of a method that is already defined in its superclass."
      ],
      "metadata": {
        "id": "qR82zNU5THyv"
      }
    },
    {
      "cell_type": "markdown",
      "source": [
        "13. What is a property decorator in Python?\n",
        "\n",
        "- The @property decorator in Python is used to define a method as a property, so it can be accessed like an attribute, without using parentheses ().\n",
        "\n",
        "It is commonly used to control access to instance variables while still using a clean attribute-style syntax."
      ],
      "metadata": {
        "id": "lXryzLHyTP1n"
      }
    },
    {
      "cell_type": "markdown",
      "source": [
        "14. Why is polymorphism important in OOP?\n",
        "- Polymorphism is a core principle of Object-Oriented Programming (OOP) that allows objects of different classes to be treated as objects of a common superclass. It enables flexibility, scalability, and cleaner code.\n"
      ],
      "metadata": {
        "id": "cEOYTtpYTaqG"
      }
    },
    {
      "cell_type": "markdown",
      "source": [
        "15. What is an abstract class in Python?\n",
        "\n",
        "-An abstract class in Python is a class that cannot be instantiated directly. It is meant to be a base class that defines a common interface for its subclasses but does not provide full implementation for all its methods.\n",
        "\n",
        "Abstract classes are used to enforce a structure or contract in derived classes."
      ],
      "metadata": {
        "id": "d5tGEPOlTodV"
      }
    },
    {
      "cell_type": "markdown",
      "source": [
        "16. What are the advantages of OOP?\n",
        "\n",
        "- Object-Oriented Programming offers many benefits that make code easier to manage, scale, and reuse.\n"
      ],
      "metadata": {
        "id": "Igb7YhcvTxki"
      }
    },
    {
      "cell_type": "markdown",
      "source": [
        "17. What is the difference between a class variable and an instance variable?\n",
        "- In Python OOP, class variables and instance variables are both used to store data, but they differ in scope, access, and behavior.\n"
      ],
      "metadata": {
        "id": "8JmcgyXgT7XH"
      }
    },
    {
      "cell_type": "markdown",
      "source": [
        "18. What is multiple inheritance in Python?\n",
        "- Multiple Inheritance is a feature in Python where a class can inherit from more than one parent class. This allows the child class to access attributes and methods from all the parent classes.\n"
      ],
      "metadata": {
        "id": "3Q_lkVqxUEFt"
      }
    },
    {
      "cell_type": "markdown",
      "source": [
        "19. Explain the purpose of ‘’__str__’ and ‘__repr__’ ‘ methods in Python.\n",
        "-"
      ],
      "metadata": {
        "id": "Fh33widpUO_O"
      }
    },
    {
      "cell_type": "code",
      "source": [
        "class Book:\n",
        "    def __init__(self, title):\n",
        "        self.title = title\n",
        "\n",
        "    def __str__(self):\n",
        "        return f\"Book: {self.title}\"\n",
        "\n",
        "b = Book(\"Python 101\")\n",
        "print(b)"
      ],
      "metadata": {
        "colab": {
          "base_uri": "https://localhost:8080/"
        },
        "id": "NLibAhJEUZBn",
        "outputId": "f70184f2-2e24-4120-c1df-d4a3a5a92575"
      },
      "execution_count": 1,
      "outputs": [
        {
          "output_type": "stream",
          "name": "stdout",
          "text": [
            "Book: Python 101\n"
          ]
        }
      ]
    },
    {
      "cell_type": "markdown",
      "source": [
        "20. What is the significance of the ‘super()’ function in Python?\n",
        "- The super() function in Python is used to call methods from a parent (or superclass) from within a child (subclass). It plays a key role in inheritance and helps you avoid repeating code."
      ],
      "metadata": {
        "id": "4CaHhZIQUdEI"
      }
    },
    {
      "cell_type": "markdown",
      "source": [
        "21. What is the significance of the __del__ method in Python?\n",
        "\n",
        "- he __del__() method in Python is a destructor — it is called automatically when an object is about to be destroyed.\n"
      ],
      "metadata": {
        "id": "CpcFxz5NUlCv"
      }
    },
    {
      "cell_type": "markdown",
      "source": [
        "22. What is the difference between @staticmethod and @classmethod in Python?\n",
        "\n",
        "- Both @staticmethod and @classmethod are decorators used to define methods that are not regular instance methods, but they have different behaviors and purposes."
      ],
      "metadata": {
        "id": "yOMQLKiFUtx-"
      }
    },
    {
      "cell_type": "markdown",
      "source": [
        "23. How does polymorphism work in Python with inheritance?\n",
        "- In Python, polymorphism with inheritance allows objects of different subclasses to be treated as objects of a common superclass, while still executing their own overridden behaviors."
      ],
      "metadata": {
        "id": "samU0Lj8U6PY"
      }
    },
    {
      "cell_type": "markdown",
      "source": [
        "24. What is method chaining in Python OOP?\n",
        "- Method chaining is a programming technique in which you call multiple methods on the same object in a single line, one after the other.\n",
        "\n",
        "Each method returns the object itself (self), allowing the next method to be called directly."
      ],
      "metadata": {
        "id": "zQFbuWW4VGoG"
      }
    },
    {
      "cell_type": "markdown",
      "source": [
        "25. What is the purpose of the __call__ method in Python?\n",
        "- The __call__() method in Python makes an object behave like a function.\n",
        "\n",
        "If a class defines the __call__() method, its instances can be called using parentheses, just like a regular function."
      ],
      "metadata": {
        "id": "eJl1lKCzVQ7t"
      }
    },
    {
      "cell_type": "markdown",
      "source": [
        "#Practical\n"
      ],
      "metadata": {
        "id": "CjBtINMTVZ7j"
      }
    },
    {
      "cell_type": "markdown",
      "source": [
        "1. Create a parent class Animal with a method speak() that prints a generic message. Create a child class Dog\n",
        "that overrides the speak() method to print \"Bark!\""
      ],
      "metadata": {
        "id": "92kiJFEVVjCw"
      }
    },
    {
      "cell_type": "code",
      "source": [
        "# Parent class\n",
        "class Animal:\n",
        "    def speak(self):\n",
        "        print(\"The animal makes a sound.\")\n",
        "\n",
        "# Child class\n",
        "class Dog(Animal):\n",
        "    def speak(self):\n",
        "        print(\"Bark!\")\n",
        "\n",
        "# Test the classes\n",
        "a = Animal()\n",
        "a.speak()\n",
        "\n",
        "d = Dog()\n",
        "d.speak()\n"
      ],
      "metadata": {
        "colab": {
          "base_uri": "https://localhost:8080/"
        },
        "id": "nAhC8jRMVe_I",
        "outputId": "72b81daa-3afc-4c0c-cca6-91101e1ebf16"
      },
      "execution_count": 2,
      "outputs": [
        {
          "output_type": "stream",
          "name": "stdout",
          "text": [
            "The animal makes a sound.\n",
            "Bark!\n"
          ]
        }
      ]
    },
    {
      "cell_type": "markdown",
      "source": [
        "2.  Write a program to create an abstract class Shape with a method area(). Derive classes Circle and Rectangle\n",
        "from it and implement the area() method in both."
      ],
      "metadata": {
        "id": "s9uNk8_UVuDL"
      }
    },
    {
      "cell_type": "code",
      "source": [
        "from abc import ABC, abstractmethod\n",
        "import math\n",
        "\n",
        "# Abstract base class\n",
        "class Shape(ABC):\n",
        "    @abstractmethod\n",
        "    def area(self):\n",
        "        pass\n",
        "\n",
        "# Circle class inherits from Shape\n",
        "class Circle(Shape):\n",
        "    def __init__(self, radius):\n",
        "        self.radius = radius\n",
        "\n",
        "    def area(self):\n",
        "        return math.pi * self.radius ** 2\n",
        "\n",
        "# Rectangle class inherits from Shape\n",
        "class Rectangle(Shape):\n",
        "    def __init__(self, width, height):\n",
        "        self.width = width\n",
        "        self.height = height\n",
        "\n",
        "    def area(self):\n",
        "        return self.width * self.height\n",
        "\n",
        "# Testing the classes\n",
        "circle = Circle(5)\n",
        "rectangle = Rectangle(4, 6)\n",
        "\n",
        "print(f\"Circle Area: {circle.area():.2f}\")\n",
        "print(f\"Rectangle Area: {rectangle.area()}\")\n"
      ],
      "metadata": {
        "colab": {
          "base_uri": "https://localhost:8080/"
        },
        "id": "yL0VFJRrVxr0",
        "outputId": "6e35313a-29e7-4bdd-a19b-786ded137ce7"
      },
      "execution_count": 3,
      "outputs": [
        {
          "output_type": "stream",
          "name": "stdout",
          "text": [
            "Circle Area: 78.54\n",
            "Rectangle Area: 24\n"
          ]
        }
      ]
    },
    {
      "cell_type": "markdown",
      "source": [
        "3.  Implement a multi-level inheritance scenario where a class Vehicle has an attribute type. Derive a class Car\n",
        "and further derive a class ElectricCar that adds a battery attribute."
      ],
      "metadata": {
        "id": "dbq3USx7V-Kd"
      }
    },
    {
      "cell_type": "code",
      "source": [
        "class Vehicle:\n",
        "    def __init__(self, type):\n",
        "        self.type = type\n",
        "\n",
        "\n",
        "class Car(Vehicle):\n",
        "    def __init__(self, type, brand):\n",
        "        super().__init__(type)\n",
        "        self.brand = brand\n",
        "\n",
        "class ElectricCar(Car):\n",
        "    def __init__(self, type, brand, battery):\n",
        "        super().__init__(type, brand)\n",
        "        self.battery = battery\n",
        "\n",
        "    def display_info(self):\n",
        "        print(f\"Type: {self.type}\")\n",
        "        print(f\"Brand: {self.brand}\")\n",
        "        print(f\"Battery: {self.battery} kWh\")\n",
        "\n",
        "ecar = ElectricCar(\"4-Wheeler\", \"BMW\", 75)\n",
        "ecar.display_info()\n"
      ],
      "metadata": {
        "colab": {
          "base_uri": "https://localhost:8080/"
        },
        "id": "KYste2elWCuW",
        "outputId": "2c41cf35-1899-4d69-fba4-e848bfe595f7"
      },
      "execution_count": 5,
      "outputs": [
        {
          "output_type": "stream",
          "name": "stdout",
          "text": [
            "Type: 4-Wheeler\n",
            "Brand: BMW\n",
            "Battery: 75 kWh\n"
          ]
        }
      ]
    },
    {
      "cell_type": "markdown",
      "source": [
        "4.  Demonstrate polymorphism by creating a base class Bird with a method fly(). Create two derived classes\n",
        "Sparrow and Penguin that override the fly() method."
      ],
      "metadata": {
        "id": "BWe1WZVbWWa9"
      }
    },
    {
      "cell_type": "code",
      "source": [
        "class Bird:\n",
        "    def fly(self):\n",
        "        print(\"Some birds can fly.\")\n",
        "\n",
        "class Sparrow(Bird):\n",
        "    def fly(self):\n",
        "        print(\"Sparrow flies high in the sky!\")\n",
        "\n",
        "class Penguin(Bird):\n",
        "    def fly(self):\n",
        "        print(\"Penguins can't fly but swim well.\")\n",
        "\n",
        "birds = [Sparrow(), Penguin()]\n",
        "\n",
        "for bird in birds:\n",
        "    bird.fly()\n"
      ],
      "metadata": {
        "colab": {
          "base_uri": "https://localhost:8080/"
        },
        "id": "Ugx3TS8OWV7u",
        "outputId": "fe30abff-2edf-40fd-e419-082d5ca623da"
      },
      "execution_count": 6,
      "outputs": [
        {
          "output_type": "stream",
          "name": "stdout",
          "text": [
            "Sparrow flies high in the sky!\n",
            "Penguins can't fly but swim well.\n"
          ]
        }
      ]
    },
    {
      "cell_type": "markdown",
      "source": [
        "5. Write a program to demonstrate encapsulation by creating a class BankAccount with private attributes\n",
        "balance and methods to deposit, withdraw, and check balance."
      ],
      "metadata": {
        "id": "8RoN1jdpWn50"
      }
    },
    {
      "cell_type": "code",
      "source": [
        "class BankAccount:\n",
        "    def __init__(self, account_holder, initial_balance=0):\n",
        "        self.account_holder = account_holder\n",
        "        self.__balance = initial_balance  # Private attribute\n",
        "\n",
        "    # Deposit method\n",
        "    def deposit(self, amount):\n",
        "        if amount > 0:\n",
        "            self.__balance += amount\n",
        "            print(f\"Deposited ₹{amount}.\")\n",
        "        else:\n",
        "            print(\"Invalid deposit amount.\")\n",
        "\n",
        "    # Withdraw method\n",
        "    def withdraw(self, amount):\n",
        "        if 0 < amount <= self.__balance:\n",
        "            self.__balance -= amount\n",
        "            print(f\"Withdrew ₹{amount}.\")\n",
        "        else:\n",
        "            print(\"Insufficient balance or invalid amount.\")\n",
        "\n",
        "    # Method to check balance\n",
        "    def check_balance(self):\n",
        "        print(f\"Available Balance: ₹{self.__balance}\")\n",
        "\n",
        "# Testing the BankAccount class\n",
        "account = BankAccount(\"Partha\", 1000)\n",
        "\n",
        "account.deposit(500)\n",
        "account.withdraw(300)\n",
        "account.check_balance()\n"
      ],
      "metadata": {
        "colab": {
          "base_uri": "https://localhost:8080/"
        },
        "id": "XjVn0M_bWq4m",
        "outputId": "99f2c078-c7ed-4dcd-c05b-5127709c822c"
      },
      "execution_count": 7,
      "outputs": [
        {
          "output_type": "stream",
          "name": "stdout",
          "text": [
            "Deposited ₹500.\n",
            "Withdrew ₹300.\n",
            "Available Balance: ₹1200\n"
          ]
        }
      ]
    },
    {
      "cell_type": "markdown",
      "source": [
        "6.  Demonstrate runtime polymorphism using a method play() in a base class Instrument. Derive classes Guitar\n",
        "and Piano that implement their own version of play()."
      ],
      "metadata": {
        "id": "hZuRz87gW8X4"
      }
    },
    {
      "cell_type": "code",
      "source": [
        "# Base class\n",
        "class Instrument:\n",
        "    def play(self):\n",
        "        print(\"Playing an instrument...\")\n",
        "\n",
        "# Derived class 1\n",
        "class Guitar(Instrument):\n",
        "    def play(self):\n",
        "        print(\"Strumming the guitar\")\n",
        "\n",
        "# Derived class 2\n",
        "class Piano(Instrument):\n",
        "    def play(self):\n",
        "        print(\"Playing the piano\")\n",
        "\n",
        "\n",
        "def perform(instrument: Instrument):\n",
        "    instrument.play()\n",
        "\n",
        "instruments = [Guitar(), Piano()]\n",
        "\n",
        "for i in instruments:\n",
        "    perform(i)\n"
      ],
      "metadata": {
        "colab": {
          "base_uri": "https://localhost:8080/"
        },
        "id": "glCRrXtoXBDv",
        "outputId": "2cfb637d-ff19-4706-d79e-edc430688690"
      },
      "execution_count": 8,
      "outputs": [
        {
          "output_type": "stream",
          "name": "stdout",
          "text": [
            "Strumming the guitar\n",
            "Playing the piano\n"
          ]
        }
      ]
    },
    {
      "cell_type": "markdown",
      "source": [
        "7. Create a class MathOperations with a class method add_numbers() to add two numbers and a static\n",
        "method subtract_numbers() to subtract two numbers."
      ],
      "metadata": {
        "id": "LdO4ry7kXVzK"
      }
    },
    {
      "cell_type": "code",
      "source": [
        "class MathOperations:\n",
        "    # Class method to add two numbers\n",
        "    @classmethod\n",
        "    def add_numbers(cls, a, b):\n",
        "        return a + b\n",
        "\n",
        "    # Static method to subtract two numbers\n",
        "    @staticmethod\n",
        "    def subtract_numbers(a, b):\n",
        "        return a - b\n",
        "\n",
        "# Using the class method\n",
        "sum_result = MathOperations.add_numbers(10, 5)\n",
        "print(f\"Sum: {sum_result}\")  # Output: Sum: 15\n",
        "\n",
        "# Using the static method\n",
        "difference = MathOperations.subtract_numbers(10, 5)\n",
        "print(f\"Difference: {difference}\")\n"
      ],
      "metadata": {
        "colab": {
          "base_uri": "https://localhost:8080/"
        },
        "id": "DtSRB7G4XZcw",
        "outputId": "00bcb1ff-0b46-4fad-f6b9-11799121d8d5"
      },
      "execution_count": 9,
      "outputs": [
        {
          "output_type": "stream",
          "name": "stdout",
          "text": [
            "Sum: 15\n",
            "Difference: 5\n"
          ]
        }
      ]
    },
    {
      "cell_type": "markdown",
      "source": [
        "8.  Implement a class Person with a class method to count the total number of persons created.\n",
        "\n",
        "\n"
      ],
      "metadata": {
        "id": "-HT7dapfXgnV"
      }
    },
    {
      "cell_type": "code",
      "source": [
        "class Person:\n",
        "    count = 0\n",
        "\n",
        "    def __init__(self, name):\n",
        "        self.name = name\n",
        "        Person.count += 1\n",
        "\n",
        "    @classmethod\n",
        "    def get_person_count(cls):\n",
        "        return cls.count\n",
        "\n",
        "# Creating Person objects\n",
        "p1 = Person(\"Alice\")\n",
        "p2 = Person(\"Bob\")\n",
        "p3 = Person(\"Charlie\")\n",
        "\n",
        "# Using class method to get count\n",
        "print(f\"Total Persons: {Person.get_person_count()}\")\n"
      ],
      "metadata": {
        "colab": {
          "base_uri": "https://localhost:8080/"
        },
        "id": "vfc59-1zXmGg",
        "outputId": "3ca1c77d-4b1b-465e-895a-a8880e33bcfb"
      },
      "execution_count": 10,
      "outputs": [
        {
          "output_type": "stream",
          "name": "stdout",
          "text": [
            "Total Persons: 3\n"
          ]
        }
      ]
    },
    {
      "cell_type": "markdown",
      "source": [
        "9.  Write a class Fraction with attributes numerator and denominator. Override the str method to display the\n",
        "fraction as \"numerator/denominator\"."
      ],
      "metadata": {
        "id": "C1Ry7FDtX1SX"
      }
    },
    {
      "cell_type": "code",
      "source": [
        "class Fraction:\n",
        "    def __init__(self, numerator, denominator):\n",
        "        self.numerator = numerator\n",
        "        self.denominator = denominator\n",
        "\n",
        "    def __str__(self):\n",
        "        return f\"{self.numerator}/{self.denominator}\"\n",
        "\n",
        "\n",
        "f = Fraction(3, 4)\n",
        "print(f)\n"
      ],
      "metadata": {
        "colab": {
          "base_uri": "https://localhost:8080/"
        },
        "id": "vO5i5IJ9X8T8",
        "outputId": "5de285be-e388-4383-df5a-594d9f6e8e8e"
      },
      "execution_count": 11,
      "outputs": [
        {
          "output_type": "stream",
          "name": "stdout",
          "text": [
            "3/4\n"
          ]
        }
      ]
    },
    {
      "cell_type": "markdown",
      "source": [
        "10.  Demonstrate operator overloading by creating a class Vector and overriding the add method to add two\n",
        "vectors."
      ],
      "metadata": {
        "id": "BrxxTstIYFts"
      }
    },
    {
      "cell_type": "code",
      "source": [
        "class Vector:\n",
        "    def __init__(self, x, y):\n",
        "        self.x = x\n",
        "        self.y = y\n",
        "\n",
        "    def __add__(self, other):\n",
        "        return Vector(self.x + other.x, self.y + other.y)\n",
        "\n",
        "    def __str__(self):\n",
        "        return f\"({self.x}, {self.y})\"\n",
        "\n",
        "v1 = Vector(2, 3)\n",
        "v2 = Vector(4, 5)\n",
        "\n",
        "result = v1 + v2\n",
        "\n",
        "# Print the result\n",
        "print(f\"v1 + v2 = {result}\")\n"
      ],
      "metadata": {
        "colab": {
          "base_uri": "https://localhost:8080/"
        },
        "id": "HGy7kICmYJ8_",
        "outputId": "93021516-b51d-4ce8-bb1d-92e0f307fe30"
      },
      "execution_count": 12,
      "outputs": [
        {
          "output_type": "stream",
          "name": "stdout",
          "text": [
            "v1 + v2 = (6, 8)\n"
          ]
        }
      ]
    },
    {
      "cell_type": "markdown",
      "source": [
        "11. Create a class Person with attributes name and age. Add a method greet() that prints \"Hello, my name is\n",
        "{name} and I am {age} years old.\""
      ],
      "metadata": {
        "id": "Yxy_M8OvYU6d"
      }
    },
    {
      "cell_type": "code",
      "source": [
        "class Person:\n",
        "    def __init__(self, name, age):\n",
        "        self.name = name\n",
        "        self.age = age\n",
        "\n",
        "    def greet(self):\n",
        "        print(f\"Hello, my name is {self.name} and I am {self.age} years old.\")\n",
        "\n",
        "# Example usage\n",
        "p1 = Person(\"Partha\", 30)\n",
        "p1.greet()\n"
      ],
      "metadata": {
        "colab": {
          "base_uri": "https://localhost:8080/"
        },
        "id": "n_0nskKnYdvA",
        "outputId": "e6276f37-3242-4c3f-f8ab-33c129b1e6d7"
      },
      "execution_count": 13,
      "outputs": [
        {
          "output_type": "stream",
          "name": "stdout",
          "text": [
            "Hello, my name is Partha and I am 30 years old.\n"
          ]
        }
      ]
    },
    {
      "cell_type": "markdown",
      "source": [
        "14. Create a class Employee with a method calculate_salary() that computes the salary based on hours worked\n",
        "and hourly rate. Create a derived class Manager that adds a bonus to the salary."
      ],
      "metadata": {
        "id": "2Rm8laDVYlsR"
      }
    },
    {
      "cell_type": "code",
      "source": [
        "# Base class\n",
        "class Employee:\n",
        "    def __init__(self, name, hours_worked, hourly_rate):\n",
        "        self.name = name\n",
        "        self.hours_worked = hours_worked\n",
        "        self.hourly_rate = hourly_rate\n",
        "\n",
        "    def calculate_salary(self):\n",
        "        return self.hours_worked * self.hourly_rate\n",
        "\n",
        "# Derived class\n",
        "class Manager(Employee):\n",
        "    def __init__(self, name, hours_worked, hourly_rate, bonus):\n",
        "        super().__init__(name, hours_worked, hourly_rate)\n",
        "        self.bonus = bonus\n",
        "\n",
        "    def calculate_salary(self):\n",
        "        base_salary = super().calculate_salary()\n",
        "        return base_salary + self.bonus\n",
        "\n",
        "# Example usage\n",
        "e1 = Employee(\"John\", 40, 200)\n",
        "m1 = Manager(\"Alice\", 40, 200, 3000)\n",
        "\n",
        "print(f\"{e1.name}'s Salary: ₹{e1.calculate_salary()}\")\n",
        "print(f\"{m1.name}'s Salary (with bonus): ₹{m1.calculate_salary()}\")\n"
      ],
      "metadata": {
        "colab": {
          "base_uri": "https://localhost:8080/"
        },
        "id": "SI0WmFlyYqrX",
        "outputId": "28563ca6-48d9-4940-8014-bf47a5766c33"
      },
      "execution_count": 14,
      "outputs": [
        {
          "output_type": "stream",
          "name": "stdout",
          "text": [
            "John's Salary: ₹8000\n",
            "Alice's Salary (with bonus): ₹11000\n"
          ]
        }
      ]
    },
    {
      "cell_type": "markdown",
      "source": [
        "18. Create a class House with attributes address and price. Create a derived class Mansion that adds an\n",
        "attribute number_of_rooms."
      ],
      "metadata": {
        "id": "M0YSgbKAYzCq"
      }
    },
    {
      "cell_type": "code",
      "source": [
        "# Base class\n",
        "class House:\n",
        "    def __init__(self, address, price):\n",
        "        self.address = address\n",
        "        self.price = price\n",
        "\n",
        "    def show_info(self):\n",
        "        print(f\"Address: {self.address}\")\n",
        "        print(f\"Price: ₹{self.price}\")\n",
        "\n",
        "# Derived class\n",
        "class Mansion(House):\n",
        "    def __init__(self, address, price, number_of_rooms):\n",
        "        super().__init__(address, price)\n",
        "        self.number_of_rooms = number_of_rooms\n",
        "\n",
        "    def show_info(self):\n",
        "        super().show_info()\n",
        "        print(f\"Number of Rooms: {self.number_of_rooms}\")\n",
        "\n",
        "# Example usage\n",
        "m = Mansion(\"123 Royal Avenue, Kolkata\", 50000000, 12)\n",
        "m.show_info()\n"
      ],
      "metadata": {
        "colab": {
          "base_uri": "https://localhost:8080/"
        },
        "id": "N46pgCtCY-M2",
        "outputId": "dbe20881-b78f-479f-c84f-2cfde13c0540"
      },
      "execution_count": 15,
      "outputs": [
        {
          "output_type": "stream",
          "name": "stdout",
          "text": [
            "Address: 123 Royal Avenue, Kolkata\n",
            "Price: ₹50000000\n",
            "Number of Rooms: 12\n"
          ]
        }
      ]
    }
  ]
}