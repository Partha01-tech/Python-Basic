{
  "nbformat": 4,
  "nbformat_minor": 0,
  "metadata": {
    "colab": {
      "provenance": []
    },
    "kernelspec": {
      "name": "python3",
      "display_name": "Python 3"
    },
    "language_info": {
      "name": "python"
    }
  },
  "cells": [
    {
      "cell_type": "code",
      "source": [
        "#Python Basics Questions"
      ],
      "metadata": {
        "id": "V4MXdCCxkiC_"
      },
      "execution_count": null,
      "outputs": []
    },
    {
      "cell_type": "markdown",
      "source": [
        "1 What is Python, and why is it popular ?\n",
        "- Python - Python is the most accessible open-source coding language as it has a simple syntax to code.\n",
        "Popular- Easy to learn, Great libraries, Runs on Windows, Linux, macOS, open-source projects.\n"
      ],
      "metadata": {
        "id": "pHYSx4kYNN0J"
      }
    },
    {
      "cell_type": "markdown",
      "source": [
        "2 What is an interpreter in Python?\n",
        "- An interpreter is a program that reads and executes Python code line-by-line.\n"
      ],
      "metadata": {
        "id": "7jy0gB5wOJqz"
      }
    },
    {
      "cell_type": "markdown",
      "source": [
        "3 What are pre-defined keywords in Python ?\n",
        "- if , else, for, while, def, return, import, class, try, True , False.\n"
      ],
      "metadata": {
        "id": "VC0ZO5xIPDyX"
      }
    },
    {
      "cell_type": "markdown",
      "source": [
        "4. Can keywords be used as variable names ?\n",
        "- No, keywords cannot be used as variable names in Python.\n"
      ],
      "metadata": {
        "id": "o9gX9O2RPHFM"
      }
    },
    {
      "cell_type": "markdown",
      "source": [
        "5. What is mutability in Python ?\n",
        "\n",
        "- Mutability refers to whether an object’s value or content can be changed after it is created.\n",
        "\n",
        "Example:-"
      ],
      "metadata": {
        "id": "e0q9cKTtSFPM"
      }
    },
    {
      "cell_type": "code",
      "source": [
        "list1 = [1, 2, 3]\n",
        "list1.append(6)\n",
        "print(list1)"
      ],
      "metadata": {
        "colab": {
          "base_uri": "https://localhost:8080/"
        },
        "id": "cCgZEKVPS1zs",
        "outputId": "1c7cca55-e003-474c-fdf0-71f15c139e2d"
      },
      "execution_count": 1,
      "outputs": [
        {
          "output_type": "stream",
          "name": "stdout",
          "text": [
            "[1, 2, 3, 6]\n"
          ]
        }
      ]
    },
    {
      "cell_type": "markdown",
      "source": [
        "6. Why are lists mutable, but tuples are immutable ?\n",
        "- list mutable- Lists are mutable to allow dynamic data manipulation.\n",
        "- tuples immutable- Tuples are immutable for safety, speed, and to use as keys in dictionaries or elements in sets.\n",
        "\n",
        "Example-"
      ],
      "metadata": {
        "id": "zk-NEV9VTdKK"
      }
    },
    {
      "cell_type": "code",
      "source": [
        "# list mutable\n",
        "fruits = [\"apple\", \"banana\", \"organe\", \"mango\"]\n",
        "fruits[-1] = \"grape\"\n",
        "fruits.append(\"coconut\")\n",
        "print(fruits)"
      ],
      "metadata": {
        "colab": {
          "base_uri": "https://localhost:8080/"
        },
        "id": "SzEGonexVWOo",
        "outputId": "8205fbb2-e554-4b09-af54-680b76b28fea"
      },
      "execution_count": 6,
      "outputs": [
        {
          "output_type": "stream",
          "name": "stdout",
          "text": [
            "['apple', 'banana', 'organe', 'grape', 'coconut']\n"
          ]
        }
      ]
    },
    {
      "cell_type": "code",
      "source": [
        "# Immutable\n",
        "fruits = (\"apple\", \"banana\", \"mango\")\n",
        "fuits.append(\"grape\")\n",
        "print(fruits)"
      ],
      "metadata": {
        "colab": {
          "base_uri": "https://localhost:8080/",
          "height": 193
        },
        "id": "dy788JdSXZU4",
        "outputId": "286f13d1-8596-46bb-dc91-b62d754a4a12"
      },
      "execution_count": 8,
      "outputs": [
        {
          "output_type": "error",
          "ename": "NameError",
          "evalue": "name 'fuits' is not defined",
          "traceback": [
            "\u001b[0;31m---------------------------------------------------------------------------\u001b[0m",
            "\u001b[0;31mNameError\u001b[0m                                 Traceback (most recent call last)",
            "\u001b[0;32m<ipython-input-8-5c22a160fce2>\u001b[0m in \u001b[0;36m<cell line: 0>\u001b[0;34m()\u001b[0m\n\u001b[1;32m      1\u001b[0m \u001b[0;31m# Immutable\u001b[0m\u001b[0;34m\u001b[0m\u001b[0;34m\u001b[0m\u001b[0m\n\u001b[1;32m      2\u001b[0m \u001b[0mfruits\u001b[0m \u001b[0;34m=\u001b[0m \u001b[0;34m(\u001b[0m\u001b[0;34m\"apple\"\u001b[0m\u001b[0;34m,\u001b[0m \u001b[0;34m\"banana\"\u001b[0m\u001b[0;34m,\u001b[0m \u001b[0;34m\"mango\"\u001b[0m\u001b[0;34m)\u001b[0m\u001b[0;34m\u001b[0m\u001b[0;34m\u001b[0m\u001b[0m\n\u001b[0;32m----> 3\u001b[0;31m \u001b[0mfuits\u001b[0m\u001b[0;34m.\u001b[0m\u001b[0mappend\u001b[0m\u001b[0;34m(\u001b[0m\u001b[0;34m\"grape\"\u001b[0m\u001b[0;34m)\u001b[0m\u001b[0;34m\u001b[0m\u001b[0;34m\u001b[0m\u001b[0m\n\u001b[0m\u001b[1;32m      4\u001b[0m \u001b[0mprint\u001b[0m\u001b[0;34m(\u001b[0m\u001b[0mfruits\u001b[0m\u001b[0;34m)\u001b[0m\u001b[0;34m\u001b[0m\u001b[0;34m\u001b[0m\u001b[0m\n",
            "\u001b[0;31mNameError\u001b[0m: name 'fuits' is not defined"
          ]
        }
      ]
    },
    {
      "cell_type": "markdown",
      "source": [
        "7. What is the difference between “==” and “is” operators in Python ?\n",
        "- Use \"==\" to check if two variables have the same value.\n",
        "\n",
        "- Use \"is\" to check if two variables point to the same object in memory."
      ],
      "metadata": {
        "id": "-db8Up6wYP4M"
      }
    },
    {
      "cell_type": "markdown",
      "source": [
        "8. What are logical operators in Python ?\n",
        "- 'and', \"or\", \"not\"."
      ],
      "metadata": {
        "id": "iycxxOinZJjA"
      }
    },
    {
      "cell_type": "markdown",
      "source": [
        "9. What is type casting in Python ?\n",
        "- 2 Types of Type Casting:\n",
        "- Python automatically converts one data type to another when needed.\n",
        "- manually change the type using built-in functions."
      ],
      "metadata": {
        "id": "3neuyZSdZi54"
      }
    },
    {
      "cell_type": "markdown",
      "source": [
        "10. What is the difference between implicit and explicit type casting ?\n",
        "- implicit casting when Python can safely convert types.\n",
        "- explicit casting when you need to control how data is treated."
      ],
      "metadata": {
        "id": "RHeJX2Z0ayU4"
      }
    },
    {
      "cell_type": "markdown",
      "source": [
        "11. What is the purpose of conditional statements in Python ?\n",
        "- The conditionl statements are based on \"if\", \"elif\", \"else\".\n",
        "- Conditional statements make Python interactive and responsive allowing it to react differently in different situations.\n"
      ],
      "metadata": {
        "id": "gec8nboabaVt"
      }
    },
    {
      "cell_type": "markdown",
      "source": [
        "12. How does the elif statement work ?\n",
        "- The elif statement in Python stands for \"else if\". It allows you to check multiple conditions after an if statement .\n",
        "- more than two possible choices."
      ],
      "metadata": {
        "id": "melDaXxvfwvM"
      }
    },
    {
      "cell_type": "markdown",
      "source": [
        "13. What is the difference between for and while loops ?\n",
        "- Both for and while loops are used to repeat a block of code, but they work in different ways depending on the situation."
      ],
      "metadata": {
        "id": "FW-VGB_aiphZ"
      }
    },
    {
      "cell_type": "markdown",
      "source": [
        "14. Describe a scenario where a while loop is more suitable than a for loop?\n",
        "- Use a while loop when the number of iterations is unknown, and the loop depends on a condition that may change during runtime."
      ],
      "metadata": {
        "id": "u-gkJNdvjVaq"
      }
    },
    {
      "cell_type": "markdown",
      "source": [
        "## Practical Questions..."
      ],
      "metadata": {
        "id": "Rs3UHlipkazs"
      }
    },
    {
      "cell_type": "code",
      "source": [
        "# 1. Write a Python program to print \"Hello, World!\"\n",
        "\n",
        "print(\"Hello, World\")"
      ],
      "metadata": {
        "colab": {
          "base_uri": "https://localhost:8080/"
        },
        "id": "V7gCjkuUkgee",
        "outputId": "6fb74d51-19c4-4305-af16-b67480e570f2"
      },
      "execution_count": 10,
      "outputs": [
        {
          "output_type": "stream",
          "name": "stdout",
          "text": [
            "Hello, World\n"
          ]
        }
      ]
    },
    {
      "cell_type": "code",
      "source": [
        "# 2. Write a Python program that displays your name and age.\n",
        "\n",
        "name = \"Partha\"\n",
        "age = 30\n",
        "print(\"My name is Partha\")\n",
        "print(\"I am 30 years old\")"
      ],
      "metadata": {
        "colab": {
          "base_uri": "https://localhost:8080/"
        },
        "id": "RrZeWRItlSq5",
        "outputId": "5f028425-f9ea-4326-e780-99629b593562"
      },
      "execution_count": 12,
      "outputs": [
        {
          "output_type": "stream",
          "name": "stdout",
          "text": [
            "My name is Partha\n",
            "I am 30 years old\n"
          ]
        }
      ]
    },
    {
      "cell_type": "code",
      "source": [
        "# 3. Write code to print all the pre-defined keywords in Python using the keyword library.\n",
        "import keyword\n",
        "\n",
        "print(\"List of all predefined Python keywords:\")\n",
        "print(\"-----------------------------------------\")\n",
        "print(keyword.kwlist)\n",
        "print(\"\\nTotal number of keywords:\", len(keyword.kwlist))"
      ],
      "metadata": {
        "colab": {
          "base_uri": "https://localhost:8080/"
        },
        "id": "Q1wWYMajl5_V",
        "outputId": "5c15d83d-28ef-44e3-99b0-45c2714e913e"
      },
      "execution_count": 13,
      "outputs": [
        {
          "output_type": "stream",
          "name": "stdout",
          "text": [
            "List of all predefined Python keywords:\n",
            "-----------------------------------------\n",
            "['False', 'None', 'True', 'and', 'as', 'assert', 'async', 'await', 'break', 'class', 'continue', 'def', 'del', 'elif', 'else', 'except', 'finally', 'for', 'from', 'global', 'if', 'import', 'in', 'is', 'lambda', 'nonlocal', 'not', 'or', 'pass', 'raise', 'return', 'try', 'while', 'with', 'yield']\n",
            "\n",
            "Total number of keywords: 35\n"
          ]
        }
      ]
    },
    {
      "cell_type": "code",
      "source": [
        "# 4. Write a program that checks if a given word is a Python keyword.\n"
      ],
      "metadata": {
        "id": "4oSi8QpUoF5-"
      },
      "execution_count": null,
      "outputs": []
    },
    {
      "cell_type": "code",
      "source": [
        "# 5.Create a list and tuple in Python, and demonstrate how attempting to change an element works differently for each.\n",
        "\n",
        "my_list = [10, 20, 30]\n",
        "print(\"Original list:\", my_list)\n",
        "my_list[1] = 56\n",
        "print(\"\\nAfter changing list element at index 1:\")\n",
        "print(\"List:\", my_list)\n",
        "\n",
        "# change (mutate) elements — so my_list[1] = 56 works.\n"
      ],
      "metadata": {
        "colab": {
          "base_uri": "https://localhost:8080/"
        },
        "id": "HgwTvEsppA1j",
        "outputId": "3cf9842a-0829-44a2-a66d-307411100037"
      },
      "execution_count": 26,
      "outputs": [
        {
          "output_type": "stream",
          "name": "stdout",
          "text": [
            "Original list: [10, 20, 30]\n",
            "\n",
            "After changing list element at index 1:\n",
            "List: [10, 56, 30]\n"
          ]
        }
      ]
    },
    {
      "cell_type": "code",
      "source": [
        "my_tuple = (10, 20, 30)\n",
        "my_tuple(1) = 54\n",
        "\n",
        "# do not allow changing elements — trying to do my_tuple[1] = 54 raises a TypeError."
      ],
      "metadata": {
        "colab": {
          "base_uri": "https://localhost:8080/",
          "height": 106
        },
        "id": "2H45EZskr30I",
        "outputId": "f3fc5082-611e-4428-9057-0074cc525f6a"
      },
      "execution_count": 30,
      "outputs": [
        {
          "output_type": "error",
          "ename": "SyntaxError",
          "evalue": "cannot assign to function call here. Maybe you meant '==' instead of '='? (<ipython-input-30-40c25ce447d0>, line 2)",
          "traceback": [
            "\u001b[0;36m  File \u001b[0;32m\"<ipython-input-30-40c25ce447d0>\"\u001b[0;36m, line \u001b[0;32m2\u001b[0m\n\u001b[0;31m    my_tuple(1) = 54\u001b[0m\n\u001b[0m    ^\u001b[0m\n\u001b[0;31mSyntaxError\u001b[0m\u001b[0;31m:\u001b[0m cannot assign to function call here. Maybe you meant '==' instead of '='?\n"
          ]
        }
      ]
    },
    {
      "cell_type": "code",
      "source": [
        "# 6. Write a function to demonstrate the behavior of mutable and immutable arguments.\n"
      ],
      "metadata": {
        "id": "dWsg3VKdtgiR"
      },
      "execution_count": null,
      "outputs": []
    },
    {
      "cell_type": "code",
      "source": [
        "# 7. Write a program that performs basic arithmetic operations on two user-input numbers.\n",
        "\n",
        "partha = float(input(\"Enter the first number: \"))\n",
        "Bua = float(input(\"Enter the second number: \"))\n",
        "addition = partha + Bua\n",
        "subtraction = partha - Bua\n",
        "multiplication = partha * Bua\n",
        "division = partha / Bua if Bua != 0 else \"undefined (cannot divide by zero)\"\n",
        "print(\"Results:\")\n",
        "print(f\"Addition: {partha} + {Bua} = {addition}\")\n",
        "print(f\"Subtraction: {partha} - {Bua} = {subtraction}\")\n",
        "print(f\"Multiplication: {partha} * {Bua} = {multiplication}\")\n",
        "print(f\"Division: {partha} / {Bua} = {division}\")"
      ],
      "metadata": {
        "colab": {
          "base_uri": "https://localhost:8080/"
        },
        "id": "ZRAbt_GQwo8x",
        "outputId": "842bc26b-6ad7-4b81-f156-6d6aac78fe43"
      },
      "execution_count": 38,
      "outputs": [
        {
          "output_type": "stream",
          "name": "stdout",
          "text": [
            "Enter the first number: 13\n",
            "Enter the second number: 13\n",
            "Results:\n",
            "Addition: 13.0 + 13.0 = 26.0\n",
            "Subtraction: 13.0 - 13.0 = 0.0\n",
            "Multiplication: 13.0 * 13.0 = 169.0\n",
            "Division: 13.0 / 13.0 = 1.0\n"
          ]
        }
      ]
    },
    {
      "cell_type": "code",
      "source": [
        "# 8. Write a program to demonstrate the use of logical operators.\n",
        "\n",
        "age = int(input(\"Enter your age: \"))\n",
        "has_ticket = input(\"Do you have a ticket? (yes/no): \")\n",
        "if age >= 18 and has_ticket == \"yes\":\n",
        "    print(\"You are allowed to enter.\")\n",
        "else:\n",
        "    print(\"Entry denied.\")"
      ],
      "metadata": {
        "colab": {
          "base_uri": "https://localhost:8080/"
        },
        "id": "gQnWocRGxnNZ",
        "outputId": "4a4ddc1f-05a7-4478-9e55-b664b1695403"
      },
      "execution_count": 40,
      "outputs": [
        {
          "output_type": "stream",
          "name": "stdout",
          "text": [
            "Enter your age: 30\n",
            "Do you have a ticket? (yes/no): no\n",
            "Entry denied.\n"
          ]
        }
      ]
    },
    {
      "cell_type": "code",
      "source": [
        "# 9. Write a Python program to convert user input from string to integer, float, and boolean types.\n",
        "\n",
        "- Please help"
      ],
      "metadata": {
        "id": "A1VO-D9G0xfj"
      },
      "execution_count": 44,
      "outputs": []
    },
    {
      "cell_type": "code",
      "source": [
        "# 10.Write code to demonstrate type casting with list elements.\n",
        "str_list = [\"10\", \"20\", \"30\", \"40\"]\n",
        "\n",
        "print(\"Original list (strings):\", str_list)\n",
        "int_list = [int(item) for item in str_list]\n",
        "print(\"After type casting to integers:\", int_list)\n",
        "float_list = [float(item) for item in int_list]\n",
        "print(\"After type casting to floats:\", float_list)"
      ],
      "metadata": {
        "colab": {
          "base_uri": "https://localhost:8080/"
        },
        "id": "joghg9mc6vSS",
        "outputId": "7985735d-07d1-482f-ecfc-b62b27fd93ee"
      },
      "execution_count": 45,
      "outputs": [
        {
          "output_type": "stream",
          "name": "stdout",
          "text": [
            "Original list (strings): ['10', '20', '30', '40']\n",
            "After type casting to integers: [10, 20, 30, 40]\n",
            "After type casting to floats: [10.0, 20.0, 30.0, 40.0]\n"
          ]
        }
      ]
    },
    {
      "cell_type": "code",
      "source": [
        "# 11. Write a program that checks if a number is positive, negative, or zero.\n",
        "\n",
        "num = float(input(\"Enter a number: \"))\n",
        "if num > 0:\n",
        "    print(\"The number is positive.\")\n",
        "elif num < 0:\n",
        "    print(\"The number is negative.\")\n",
        "else:\n",
        "    print(\"The number is zero.\")"
      ],
      "metadata": {
        "colab": {
          "base_uri": "https://localhost:8080/"
        },
        "id": "5ZaRW2Gs7ceu",
        "outputId": "34bf85eb-8ca9-4446-896d-f6eb52f617ac"
      },
      "execution_count": 47,
      "outputs": [
        {
          "output_type": "stream",
          "name": "stdout",
          "text": [
            "Enter a number: 24\n",
            "The number is positive.\n"
          ]
        }
      ]
    },
    {
      "cell_type": "code",
      "source": [
        "# 12. Write a for loop to print numbers from 1 to 10.\n",
        "\n",
        "for i in range(1, 11):\n",
        "    print(i)"
      ],
      "metadata": {
        "colab": {
          "base_uri": "https://localhost:8080/"
        },
        "id": "mTsgQpRp8Vyd",
        "outputId": "79316536-b74b-4155-ab81-57fdd1c9f63c"
      },
      "execution_count": 48,
      "outputs": [
        {
          "output_type": "stream",
          "name": "stdout",
          "text": [
            "1\n",
            "2\n",
            "3\n",
            "4\n",
            "5\n",
            "6\n",
            "7\n",
            "8\n",
            "9\n",
            "10\n"
          ]
        }
      ]
    },
    {
      "cell_type": "code",
      "source": [
        "# 13.  Write a Python program to find the sum of all even numbers between 1 and 50.\n",
        "\n"
      ],
      "metadata": {
        "colab": {
          "base_uri": "https://localhost:8080/"
        },
        "id": "wdTqETLo8iKe",
        "outputId": "7660ce89-2887-4b30-9c13-5b96c03c3200"
      },
      "execution_count": 52,
      "outputs": [
        {
          "output_type": "stream",
          "name": "stdout",
          "text": [
            "Sum of even numbers from 1 to 50 is: 653\n"
          ]
        }
      ]
    },
    {
      "cell_type": "code",
      "source": [
        "# 14. Write a program to reverse a string using a while loop.\n",
        "\n",
        "name = \"partha\"\n",
        "reversed_name = \"\"\n",
        "list = len(name) - 1\n",
        "while list >= 0:\n",
        "  reversed_name += name[list]\n",
        "  list -= 1\n",
        "print(\"reversed name:\",  reversed_name)\n",
        "\n"
      ],
      "metadata": {
        "colab": {
          "base_uri": "https://localhost:8080/"
        },
        "id": "34yC6t-R9PCa",
        "outputId": "bfeb0956-6c9f-43c2-b403-395a63a7527d"
      },
      "execution_count": 4,
      "outputs": [
        {
          "output_type": "stream",
          "name": "stdout",
          "text": [
            "reversed name: ahtrap\n"
          ]
        }
      ]
    },
    {
      "cell_type": "code",
      "source": [
        "# 15. Write a Python program to calculate the factorial of a number provided by the user using a while loop.\n",
        "\n",
        "# dont know, please explan once."
      ],
      "metadata": {
        "id": "FH6qMBuFSMrf"
      },
      "execution_count": null,
      "outputs": []
    }
  ]
}